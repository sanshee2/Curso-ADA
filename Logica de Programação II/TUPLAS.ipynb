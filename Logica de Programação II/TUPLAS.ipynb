{
  "nbformat": 4,
  "nbformat_minor": 0,
  "metadata": {
    "colab": {
      "provenance": []
    },
    "kernelspec": {
      "name": "python3",
      "display_name": "Python 3"
    },
    "language_info": {
      "name": "python"
    }
  },
  "cells": [
    {
      "cell_type": "markdown",
      "source": [
        "Breve resumo de listas adicionado à aula.\n",
        "Professor fala sobre o argumento end de uma lista:\n",
        "\n",
        "\n",
        "```\n",
        "lista = [0,1,2,3,4,5]\n",
        "for i in lista:\n",
        "print(lista[i], end =\" \")\n",
        "```\n",
        "Com esse código, depois do print sempre será adicionado ao string o valor que estiver contido em \" \";\n"
      ],
      "metadata": {
        "id": "Z5qapEK2wFTj"
      }
    },
    {
      "cell_type": "code",
      "execution_count": null,
      "metadata": {
        "colab": {
          "base_uri": "https://localhost:8080/"
        },
        "id": "cV7FvbjdwC_s",
        "outputId": "3c16a878-0aed-44b1-ca02-0d2841895ac3"
      },
      "outputs": [
        {
          "output_type": "stream",
          "name": "stdout",
          "text": [
            "0\n",
            "1\n",
            "2\n",
            "3\n",
            "4\n",
            "5\n",
            "\n",
            "\n",
            "0 1 2 3 4 5 \n",
            "\n",
            "0 + 1 + 2 + 3 + 4 + 5\n"
          ]
        }
      ],
      "source": [
        "lista = [0,1,2,3,4,5]\n",
        "for i in lista:\n",
        "  print(lista[i], end =\"\\n\")\n",
        "print(\"\\n\")\n",
        "for i in lista:\n",
        "  print(lista[i], end = \" \")\n",
        "print(\"\\n\")\n",
        "for i in lista:\n",
        "  if i < len(lista)-1:\n",
        "    print(lista[i], end = \" + \")\n",
        "  else:\n",
        "    print(lista[i])\n"
      ]
    },
    {
      "cell_type": "markdown",
      "source": [
        "Professor também faz uma fala sobre a sintaxe de um Slicing de listas.\n",
        "\n",
        "\n",
        "```\n",
        "lista = [abacate, banana, carambola, papaya]\n",
        "print(list[2:3])\n",
        "```\n",
        "Essa sintaxe pode ser entendida como slice[PRIMEIRO TERMO (participativo): ULTIMO TERMO (excludente): passo]\n"
      ],
      "metadata": {
        "id": "5YObGWddwE1X"
      }
    },
    {
      "cell_type": "code",
      "source": [
        "lista = [\"abacate\", \"banana\", \"carambola\", \"papaya\"]\n",
        "print(lista[2:3]) #\n",
        "lista2 = [0, 1, 2, 3, 4, 5, 6, 7, 8, 9, 10]\n",
        "print(lista2[0::2]) #Dessa forma, ao não preencher o ultimo termo, o slicing vai ir até o ultimo ponto."
      ],
      "metadata": {
        "colab": {
          "base_uri": "https://localhost:8080/"
        },
        "id": "CeLcaOxZz41I",
        "outputId": "2d34a35e-b6b9-49e8-9bc1-90eeb81f71d4"
      },
      "execution_count": null,
      "outputs": [
        {
          "output_type": "stream",
          "name": "stdout",
          "text": [
            "['carambola']\n",
            "[0, 2, 4, 6, 8, 10]\n"
          ]
        }
      ]
    },
    {
      "cell_type": "markdown",
      "source": [
        "Quando listas são atribuídas às outras, não são duas listas distintas: são ponteiros.\n",
        "\n",
        "\n",
        "```\n",
        "lista1 = []\n",
        "lista2 = lista1\n",
        "```\n",
        "Nesse pedaço de código, a lista2 recebe o ***endereço*** dessa lista. Para que a lista seja de fato copiada, isso pode ser feito através do slicing:\n",
        "\n",
        "\n",
        "\n",
        "```\n",
        "lista1 = [0, 1, 2, 3, 4, 5, 6]\n",
        "lista2 = lista1[0: ]\n",
        "```\n",
        "Com esse código, o slicing faz com que um trecho (dessa forma, convenientemente a lista inteira) seja copiado.\n",
        "\n",
        "Outra forma de tratar uma cópia é usando a função .copy das listas:\n",
        "\n",
        "\n",
        "```\n",
        "lista1 = []\n",
        "lista2 = lista1.copy()\n",
        "```\n",
        "\n"
      ],
      "metadata": {
        "id": "KCCi5aod0tkM"
      }
    },
    {
      "cell_type": "markdown",
      "source": [
        "# Finalmente, às Tuplas:\n",
        "Tuplas são listas, mas com caráter imutável.\n",
        "Para chamar uma tupla, pode-se criá-la e atribuir a função tupla:\n",
        "\n",
        "\n",
        "```\n",
        "tupla = tuple()\n",
        "tupla2 = ()\n",
        "#Funciona de forma igual.\n",
        "```\n",
        "Tuplas podem armazenar outras tuplas dentro de si.\n",
        "\n",
        "```\n",
        "tupla1(tupla2(1, \"string\", 1.5), tupla3(2, \"string2\", 2.5))\n",
        "```\n",
        "\n"
      ],
      "metadata": {
        "id": "pNIIAinM2-KW"
      }
    },
    {
      "cell_type": "markdown",
      "source": [
        "Para exemplificar, podemos, então, entender as tuplas como coleções de valores imutáveis. Sua vantagem é garantir que aquele programa está tendo seus valores seguros de forma mais confiável.\n",
        "\n",
        "Tuplas podem, entretanto, ter algum valor da lista alterado:"
      ],
      "metadata": {
        "id": "jEX3R-208Nun"
      }
    },
    {
      "cell_type": "markdown",
      "source": [
        "Demonstração de um valor de lista interna de uma tupla sendo modificada:"
      ],
      "metadata": {
        "id": "VxONMIouAIz1"
      }
    },
    {
      "cell_type": "code",
      "source": [
        "lista1 = [1, 2, 3, 4, 5]\n",
        "lista2 = [\"Sim\", \"Não\"]\n",
        "string = \"Valor\"\n",
        "tupla = (lista1, lista2, string)\n",
        "print(tupla[1][0])\n",
        "tupla[1][0] = \"Não\"\n",
        "print(tupla[1][0])\n"
      ],
      "metadata": {
        "colab": {
          "base_uri": "https://localhost:8080/"
        },
        "id": "hynYtF37-vq0",
        "outputId": "5dfc4ca2-10bb-464b-f7b8-2c144b41bfda"
      },
      "execution_count": null,
      "outputs": [
        {
          "output_type": "stream",
          "name": "stdout",
          "text": [
            "Sim\n",
            "Não\n"
          ]
        }
      ]
    },
    {
      "cell_type": "markdown",
      "source": [
        "## Exercícios\n",
        "\n",
        "1. Defina duas tuplas: uma com nomes de comida (pelo menos 5 nomes) e outra com os preços das comidas - preservando a ordem. Mostre no *standard output* a relação de comida-preço.\n",
        "\n",
        "2. Agora, ainda com as tuplas acima, pegue apenas o nome e o preço das três comidas no meio da tupla. (considere \"meio da lista\" como sendo, por exemplo: ('A', 'B', 'C', 'D', 'E') --> ('B', 'C', 'D').\n",
        "3. Defina uma tupla com pelo menos cinco valores e mostre no *standar output* esta tupla invertida. (exemplo, (1, 2, 3, 4) --> (4, 3, 2, 1)\n",
        "\n",
        "4. Dada a seguinte tupla: (('a', 23),('b', 37),('c', 11), ('d',29)). Ordene esta tupla de acordo com o segundo item.\n",
        "5. Defina uma tupla com pelo menos dez itens e crie uma nova tupla com apenas os itens de índice PAR da tupla original."
      ],
      "metadata": {
        "id": "-_M3VHQ3J9MD"
      }
    },
    {
      "cell_type": "code",
      "source": [
        "#1.\n",
        "comidas = (\"Um\", \"Dois,\" \"Três\", \"Quatro\", \"Cinco\", \"Seis\")\n",
        "precos = (11, 12 ,13 ,14 ,15 ,16 ,17)\n",
        "for a in zip(comidas, precos):\n",
        "  print(a)"
      ],
      "metadata": {
        "colab": {
          "base_uri": "https://localhost:8080/"
        },
        "id": "VZvm_9i_J-Vx",
        "outputId": "4f229cbe-3578-47a4-eac9-fe2e9e615271"
      },
      "execution_count": null,
      "outputs": [
        {
          "output_type": "stream",
          "name": "stdout",
          "text": [
            "('Um', 11)\n",
            "('Dois,Três', 12)\n",
            "('Quatro', 13)\n",
            "('Cinco', 14)\n",
            "('Seis', 15)\n"
          ]
        }
      ]
    },
    {
      "cell_type": "code",
      "source": [
        "#2.\n",
        "comidas = (\"Um\", \"Dois\", \"Três\", \"Quatro\", \"Cinco\", \"Seis\")\n",
        "precos = (11, 12, 13, 14, 15, 16, 17)\n",
        "c_meio = comidas[1:5]\n",
        "p_meio = precos[1:5]\n",
        "for a in zip(c_meio, p_meio):\n",
        "  print(a)"
      ],
      "metadata": {
        "colab": {
          "base_uri": "https://localhost:8080/"
        },
        "id": "mWfqLVW5Ku6K",
        "outputId": "4d578b4a-a041-42a9-f759-14313432ce5e"
      },
      "execution_count": null,
      "outputs": [
        {
          "output_type": "stream",
          "name": "stdout",
          "text": [
            "('Dois', 12)\n",
            "('Três', 13)\n",
            "('Quatro', 14)\n",
            "('Cinco', 15)\n"
          ]
        }
      ]
    },
    {
      "cell_type": "code",
      "source": [
        "#3.\n",
        "tupla = (1,2,3,4,5)\n",
        "tupla_rev = tupla[::-1]\n",
        "print(tupla_rev)\n"
      ],
      "metadata": {
        "colab": {
          "base_uri": "https://localhost:8080/"
        },
        "id": "qGVZ3LMmMZrP",
        "outputId": "f86c3f07-daa0-47f3-f3be-409642c28bef"
      },
      "execution_count": null,
      "outputs": [
        {
          "output_type": "stream",
          "name": "stdout",
          "text": [
            "(5, 4, 3, 2, 1)\n"
          ]
        }
      ]
    },
    {
      "cell_type": "code",
      "source": [
        "#4. RECEBER UMA TUPLA do tipo t((a,b), (a,b), (a,b)) e imprimí-la como t'((b, a), (b, a), (b, a))\n",
        "tupla = (('a', 23),('b', 37),('c', 11), ('d',29))\n",
        "tupla_ordenada = []\n",
        "for tupla_original in tupla:\n",
        "  tupla_ordenada.append((tupla_original[1], tupla_original[0]))\n",
        "print(tupla_ordenada)\n",
        "#No final não era tupla! kkkk"
      ],
      "metadata": {
        "id": "IHl-wLMwNG8B",
        "colab": {
          "base_uri": "https://localhost:8080/"
        },
        "outputId": "e2cb0d11-7075-47db-df8c-aa8b7d0e85a9"
      },
      "execution_count": null,
      "outputs": [
        {
          "output_type": "stream",
          "name": "stdout",
          "text": [
            "[(23, 'a'), (37, 'b'), (11, 'c'), (29, 'd')]\n",
            "<class 'list'>\n"
          ]
        }
      ]
    },
    {
      "cell_type": "code",
      "source": [
        "#5.\n",
        "tupla = (1, 11, 2, 22, 3, 33, 4, 44, 5, 55)\n",
        "tupla_pares = ()\n",
        "for i in range(len(tupla)):\n",
        "    if i % 2 == 0:\n",
        "        tupla_pares += (tupla[i],)\n",
        "print(tupla_pares)\n"
      ],
      "metadata": {
        "colab": {
          "base_uri": "https://localhost:8080/"
        },
        "id": "oDJr8353NNJH",
        "outputId": "51e4b322-3cca-4d22-af2d-d7d0feaeaaa8"
      },
      "execution_count": null,
      "outputs": [
        {
          "output_type": "stream",
          "name": "stdout",
          "text": [
            "(1, 2, 3, 4, 5)\n"
          ]
        }
      ]
    },
    {
      "cell_type": "markdown",
      "source": [
        "#Desempacotamento de tuplas! 😜\n",
        "\n",
        "Podemos armazenar os valores de itens de dentro de duplas de forma dinamica em variáveis:\n",
        "\n",
        "\n",
        "```\n",
        "a, b, c = (\"Não\", \"Sim\", \"Talvez)\n",
        "print(a)\n",
        "print(b)\n",
        "print(c)\n",
        "```\n",
        "\n",
        "\n"
      ],
      "metadata": {
        "id": "wGqHOedM6mQU"
      }
    },
    {
      "cell_type": "code",
      "source": [
        "a, b, c = (\"Não\", \"Sim\", \"Talvez\")\n",
        "print(a)\n",
        "print(b)\n",
        "print(c)"
      ],
      "metadata": {
        "colab": {
          "base_uri": "https://localhost:8080/"
        },
        "id": "4gdAuHjq678n",
        "outputId": "82db9603-8e49-4a3b-ad45-3d45beef9bd3"
      },
      "execution_count": null,
      "outputs": [
        {
          "output_type": "stream",
          "name": "stdout",
          "text": [
            "Não\n",
            "Sim\n",
            "Talvez\n"
          ]
        }
      ]
    },
    {
      "cell_type": "markdown",
      "source": [
        "##Controlando a quantidade de variáveis recebidas pelo *unpacking*\n",
        "Se ultilizar o operador * antes da variável, significa que ela receberá multiplos valores:\n"
      ],
      "metadata": {
        "id": "JCM6U3U_7RH5"
      }
    },
    {
      "cell_type": "code",
      "source": [
        "tupla = (1, 2, 3, 4, 5, 6, 7)\n",
        "primeiro, *meio, final = tupla\n",
        "print(primeiro)\n",
        "print(meio)\n",
        "print(final)\n"
      ],
      "metadata": {
        "colab": {
          "base_uri": "https://localhost:8080/"
        },
        "id": "Cypw-yR67mDi",
        "outputId": "eded7a63-973d-403c-93a3-32494b748d51"
      },
      "execution_count": null,
      "outputs": [
        {
          "output_type": "stream",
          "name": "stdout",
          "text": [
            "1\n",
            "[2, 3, 4, 5, 6]\n",
            "7\n"
          ]
        }
      ]
    },
    {
      "cell_type": "markdown",
      "source": [
        "Note que o tipo das variáveis obtidas por esse modo vão variar de acordo com o que está contido nessas variáveis:\n"
      ],
      "metadata": {
        "id": "kA4MzrYF8Te3"
      }
    },
    {
      "cell_type": "code",
      "source": [
        "print(type(primeiro))\n",
        "print(type(meio))\n",
        "print(type(final))"
      ],
      "metadata": {
        "colab": {
          "base_uri": "https://localhost:8080/"
        },
        "id": "0-5vrJKI8ZKF",
        "outputId": "5c9a4308-1d6f-490f-e398-32d19c1abbe7"
      },
      "execution_count": null,
      "outputs": [
        {
          "output_type": "stream",
          "name": "stdout",
          "text": [
            "<class 'int'>\n",
            "<class 'list'>\n",
            "<class 'int'>\n"
          ]
        }
      ]
    },
    {
      "cell_type": "markdown",
      "source": [],
      "metadata": {
        "id": "54Zi5XG08z4a"
      }
    },
    {
      "cell_type": "code",
      "source": [
        "tupla2 = (\"Gabriel\", 25, 1.85, tupla)\n",
        "nome, idade, altura, resto = tupla2\n",
        "for entry in tupla2:\n",
        "  print(type(entry))"
      ],
      "metadata": {
        "colab": {
          "base_uri": "https://localhost:8080/"
        },
        "id": "40Qn_wXD8b7H",
        "outputId": "5b296d29-a088-44d1-8227-7b771cf18c85"
      },
      "execution_count": null,
      "outputs": [
        {
          "output_type": "stream",
          "name": "stdout",
          "text": [
            "<class 'str'>\n",
            "<class 'int'>\n",
            "<class 'float'>\n",
            "<class 'tuple'>\n"
          ]
        }
      ]
    },
    {
      "cell_type": "markdown",
      "source": [],
      "metadata": {
        "id": "jwGT_KJt8Tb2"
      }
    }
  ]
}